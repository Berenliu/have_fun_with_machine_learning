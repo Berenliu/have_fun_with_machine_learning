{
 "cells": [
  {
   "cell_type": "code",
   "execution_count": 1,
   "metadata": {
    "collapsed": true
   },
   "outputs": [],
   "source": [
    "# also see: https://cmry.github.io/notes/euclidean-v-cosine. I just add inner product here\n",
    "\n",
    "import numpy as np\n",
    "import pandas as pd\n",
    "import wikipedia\n",
    "\n",
    "q1 = wikipedia.page('Machine Learning')\n",
    "q2 = wikipedia.page('Artifical Intelligence')\n",
    "q3 = wikipedia.page('Soccer')\n",
    "q4 = wikipedia.page('Tennis')"
   ]
  },
  {
   "cell_type": "code",
   "execution_count": 30,
   "metadata": {
    "collapsed": true
   },
   "outputs": [],
   "source": [
    "def euclidean_distance(x, y):   \n",
    "    return np.sqrt(np.sum((x - y) ** 2))\n",
    "\n",
    "def inner_product(x, y):\n",
    "    return np.dot(x, y)\n",
    "\n",
    "def cosine_similarity(x, y):\n",
    "    return np.dot(x, y) / (np.sqrt(np.dot(x, x)) * np.sqrt(np.dot(y, y)))"
   ]
  },
  {
   "cell_type": "code",
   "execution_count": 2,
   "metadata": {
    "collapsed": true
   },
   "outputs": [],
   "source": [
    "from sklearn.feature_extraction.text import CountVectorizer\n",
    "\n",
    "cv = CountVectorizer()\n",
    "X = np.array(cv.fit_transform([q1.content, q2.content, q3.content, q4.content]).todense())"
   ]
  },
  {
   "cell_type": "code",
   "execution_count": 3,
   "metadata": {},
   "outputs": [
    {
     "name": "stdout",
     "output_type": "stream",
     "text": [
      "ML \t 4134 \n",
      "AI \t 14188 \n",
      "soccer \t 6607 \n",
      "tennis \t 10027\n"
     ]
    }
   ],
   "source": [
    "print(\"ML \\t\", len(q1.content.split()), \"\\n\"\n",
    "      \"AI \\t\", len(q2.content.split()), \"\\n\"\n",
    "      \"soccer \\t\", len(q3.content.split()), \"\\n\"\n",
    "      \"tennis \\t\", len(q4.content.split()))"
   ]
  },
  {
   "cell_type": "code",
   "execution_count": 7,
   "metadata": {},
   "outputs": [],
   "source": [
    "from sklearn.preprocessing import normalize\n",
    "X1 = normalize(X)"
   ]
  },
  {
   "cell_type": "code",
   "execution_count": 18,
   "metadata": {},
   "outputs": [],
   "source": [
    "ml_tweet = \"New research release: overcoming many of Reinforcement Learning's limitations with Evolution Strategies.\"\n",
    "x = np.array(cv.transform([ml_tweet]).todense())[0]\n",
    "x1 = x/np.sqrt(np.sum(x*x))"
   ]
  },
  {
   "cell_type": "code",
   "execution_count": 25,
   "metadata": {},
   "outputs": [
    {
     "name": "stdout",
     "output_type": "stream",
     "text": [
      "tweet - ML \t 380.95931541307664 \n",
      "tweet - AI \t 1213.6601666034853 \n",
      "tweet - soccer \t 727.9326891959173 \n",
      "tweet - tennis \t 1083.4315852881527\n"
     ]
    }
   ],
   "source": [
    "print(\"tweet - ML \\t\", euclidean_distance(x, X[0]), \"\\n\"\n",
    "      \"tweet - AI \\t\", euclidean_distance(x, X[1]), \"\\n\"\n",
    "      \"tweet - soccer \\t\", euclidean_distance(x, X[2]), \"\\n\"\n",
    "      \"tweet - tennis \\t\", euclidean_distance(x, X[3]))"
   ]
  },
  {
   "cell_type": "code",
   "execution_count": 16,
   "metadata": {},
   "outputs": [
    {
     "name": "stdout",
     "output_type": "stream",
     "text": [
      "tweet - ML \t 0.25430677643727634 \n",
      "tweet - AI \t 0.19115432460283524 \n",
      "tweet - soccer \t 0.12070629999744568 \n",
      "tweet - tennis \t 0.11583612731304704\n"
     ]
    }
   ],
   "source": [
    "print(\"tweet - ML \\t\", cosine_similarity(x, X[0]), \"\\n\"\n",
    "      \"tweet - AI \\t\", cosine_similarity(x, X[1]), \"\\n\"\n",
    "      \"tweet - soccer \\t\", cosine_similarity(x, X[2]), \"\\n\"\n",
    "      \"tweet - tennis \\t\", cosine_similarity(x, X[3]))"
   ]
  },
  {
   "cell_type": "code",
   "execution_count": 24,
   "metadata": {},
   "outputs": [
    {
     "name": "stdout",
     "output_type": "stream",
     "text": [
      "tweet - ML \t 1.2212233403949695 \n",
      "tweet - AI \t 1.2718849597327304 \n",
      "tweet - soccer \t 1.3261174156179039 \n",
      "tweet - tennis \t 1.3297848492797268\n"
     ]
    }
   ],
   "source": [
    "print(\"tweet - ML \\t\", euclidean_distance(x1, X1[0]), \"\\n\"\n",
    "      \"tweet - AI \\t\", euclidean_distance(x1, X1[1]), \"\\n\"\n",
    "      \"tweet - soccer \\t\", euclidean_distance(x1, X1[2]), \"\\n\"\n",
    "      \"tweet - tennis \\t\", euclidean_distance(x1, X1[3]))"
   ]
  },
  {
   "cell_type": "code",
   "execution_count": 32,
   "metadata": {},
   "outputs": [
    {
     "name": "stdout",
     "output_type": "stream",
     "text": [
      "tweet - ML \t 0.8041886379570334 \n",
      "tweet - AI \t 0.6044830503361207 \n",
      "tweet - soccer \t 0.38170683592350496 \n",
      "tweet - tennis \t 0.3663059976424689\n"
     ]
    }
   ],
   "source": [
    "print(\"tweet - ML \\t\", inner_product(x, X1[0]), \"\\n\"\n",
    "      \"tweet - AI \\t\", inner_product(x, X1[1]), \"\\n\"\n",
    "      \"tweet - soccer \\t\", inner_product(x, X1[2]), \"\\n\"\n",
    "      \"tweet - tennis \\t\", inner_product(x, X1[3]))"
   ]
  },
  {
   "cell_type": "code",
   "execution_count": 26,
   "metadata": {},
   "outputs": [],
   "source": [
    "so_tweet = \"#LegendsDownUnder The Reds are out for the warm up at the @nibStadium. Not long now until kick-off in Perth.\"\n",
    "x2 = np.array(cv.transform([so_tweet]).todense())[0]\n",
    "x3 = x2/np.sqrt(np.sum(x2*x2))"
   ]
  },
  {
   "cell_type": "code",
   "execution_count": 27,
   "metadata": {},
   "outputs": [
    {
     "name": "stdout",
     "output_type": "stream",
     "text": [
      "tweet - ML \t 379.67617781472677 \n",
      "tweet - AI \t 1212.0688924314493 \n",
      "tweet - soccer \t 725.4515834981684 \n",
      "tweet - tennis \t 1080.9967622523204\n"
     ]
    }
   ],
   "source": [
    "print(\"tweet - ML \\t\", euclidean_distance(x2, X[0]), \"\\n\"\n",
    "      \"tweet - AI \\t\", euclidean_distance(x2, X[1]), \"\\n\"\n",
    "      \"tweet - soccer \\t\", euclidean_distance(x2, X[2]), \"\\n\"\n",
    "      \"tweet - tennis \\t\", euclidean_distance(x2, X[3]))"
   ]
  },
  {
   "cell_type": "code",
   "execution_count": 28,
   "metadata": {},
   "outputs": [
    {
     "name": "stdout",
     "output_type": "stream",
     "text": [
      "tweet - ML \t 0.4473430897448964 \n",
      "tweet - AI \t 0.46880041646024 \n",
      "tweet - soccer \t 0.6109367502805197 \n",
      "tweet - tennis \t 0.5976266447105706\n"
     ]
    }
   ],
   "source": [
    "print(\"tweet - ML \\t\", cosine_similarity(x2, X[0]), \"\\n\"\n",
    "      \"tweet - AI \\t\", cosine_similarity(x2, X[1]), \"\\n\"\n",
    "      \"tweet - soccer \\t\", cosine_similarity(x2, X[2]), \"\\n\"\n",
    "      \"tweet - tennis \\t\", cosine_similarity(x2, X[3]))"
   ]
  },
  {
   "cell_type": "code",
   "execution_count": 29,
   "metadata": {},
   "outputs": [
    {
     "name": "stdout",
     "output_type": "stream",
     "text": [
      "tweet - ML \t 381.30493368483747 \n",
      "tweet - AI \t 1213.792201398024 \n",
      "tweet - soccer \t 727.6971212049225 \n",
      "tweet - tennis \t 1083.1960083232505\n"
     ]
    }
   ],
   "source": [
    "print(\"tweet - ML \\t\", euclidean_distance(x3, X[0]), \"\\n\"\n",
    "      \"tweet - AI \\t\", euclidean_distance(x3, X[1]), \"\\n\"\n",
    "      \"tweet - soccer \\t\", euclidean_distance(x3, X[2]), \"\\n\"\n",
    "      \"tweet - tennis \\t\", euclidean_distance(x3, X[3]))"
   ]
  },
  {
   "cell_type": "code",
   "execution_count": 33,
   "metadata": {},
   "outputs": [
    {
     "name": "stdout",
     "output_type": "stream",
     "text": [
      "tweet - ML \t 2.098225078187569 \n",
      "tweet - AI \t 2.198868861576897 \n",
      "tweet - soccer \t 2.865547361771061 \n",
      "tweet - tennis \t 2.803117432840858\n"
     ]
    }
   ],
   "source": [
    "print(\"tweet - ML \\t\", inner_product(x2, X1[0]), \"\\n\"\n",
    "      \"tweet - AI \\t\", inner_product(x2, X1[1]), \"\\n\"\n",
    "      \"tweet - soccer \\t\", inner_product(x2, X1[2]), \"\\n\"\n",
    "      \"tweet - tennis \\t\", inner_product(x2, X1[3]))"
   ]
  },
  {
   "cell_type": "code",
   "execution_count": null,
   "metadata": {
    "collapsed": true
   },
   "outputs": [],
   "source": []
  }
 ],
 "metadata": {
  "kernelspec": {
   "display_name": "Python 3",
   "language": "python",
   "name": "python3"
  },
  "language_info": {
   "codemirror_mode": {
    "name": "ipython",
    "version": 3
   },
   "file_extension": ".py",
   "mimetype": "text/x-python",
   "name": "python",
   "nbconvert_exporter": "python",
   "pygments_lexer": "ipython3",
   "version": "3.6.2"
  }
 },
 "nbformat": 4,
 "nbformat_minor": 2
}
